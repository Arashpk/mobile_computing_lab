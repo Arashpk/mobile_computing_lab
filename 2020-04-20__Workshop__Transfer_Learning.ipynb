{
 "cells": [
  {
   "cell_type": "markdown",
   "metadata": {},
   "source": [
    "# 2020-04-20 Workshop: Transfer Learning\n",
    "\n",
    "### Transfer Learning\n",
    "\n",
    "Transfer learning aims at aiding the learning process of a given task by exploiting the knowledge of another task or domain. More formally, given a source domain with data distribution $Q_S$ and its corresponding task $T_S$ and a target domain $Q_T$ withtask $T_T$, transfer learning aims to support the learning of the target task $T_T$ in $Q_T$ using the knowledge of $Q_S$ and $T_S$, where $Q_S \\neq Q_T$, or $T_S \\neq T_T$. Transfer learning is mainly concerned with the forward transfer desiderata of continual learning. However, it doesn’t involve any continuous adaptation after learning the target task. Moreover, the performance on the source task(s) is not taken into account during transfer learning. A quite popular example of transfer learning is finetuning, where models pre-trained on large tasks are used as initialization for tasks with limited training data.\n",
    "\n",
    "### Domain Adaptation\n",
    "\n",
    "Domain adaptation is a sub-field of transfer learning where the source and target tasks are the same but drawn from different input domains. The target domain data is unlabelled and the goal is to adapt a model trained on the source domain to perform well on the unlabelled target domain. In other words, it relaxes the classical machine learning assumption of having training and test data drawn from the same distribution. As mentioned above for transfer learning, domain adaptation is unidirectional and doesn’t involve any accumulation of knowledge.\n",
    "\n",
    "Source: <a href=\"https://arxiv.org/pdf/1910.02718.pdf\">Continual Learning in Neural Networks</a>\n",
    "\n",
    "***\n",
    "\n",
    "# Your Task: Activity Monitoring and Transfer Learning (Option 1)\n",
    "\n",
    "<img src=\"img/project_options4.png\" width=\"800\">\n",
    "\n",
    "## Cookbook\n",
    "\n",
    "#### Step 1: TODO\n",
    "\n"
   ]
  },
  {
   "cell_type": "code",
   "execution_count": null,
   "metadata": {},
   "outputs": [],
   "source": []
  }
 ],
 "metadata": {
  "kernelspec": {
   "display_name": "Python 3",
   "language": "python",
   "name": "python3"
  },
  "language_info": {
   "codemirror_mode": {
    "name": "ipython",
    "version": 3
   },
   "file_extension": ".py",
   "mimetype": "text/x-python",
   "name": "python",
   "nbconvert_exporter": "python",
   "pygments_lexer": "ipython3",
   "version": "3.7.6"
  }
 },
 "nbformat": 4,
 "nbformat_minor": 2
}
