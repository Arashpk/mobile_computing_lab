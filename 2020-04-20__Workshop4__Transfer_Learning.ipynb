{
 "cells": [
  {
   "cell_type": "markdown",
   "metadata": {},
   "source": [
    "# 2020-04-20 Workshop4 Transfer Learning\n",
    "\n",
    "TODO\n",
    "\n",
    "***\n",
    "\n",
    "# Your Task: Activity Monitoring and Transfer Learning (Option 1)\n",
    "\n",
    "<img src=\"img/project_options4.png\" width=\"800\">\n",
    "\n",
    "## Cookbook\n",
    "\n",
    "#### Step 1: TODO\n",
    "\n"
   ]
  },
  {
   "cell_type": "code",
   "execution_count": null,
   "metadata": {},
   "outputs": [],
   "source": []
  }
 ],
 "metadata": {
  "kernelspec": {
   "display_name": "Python 3",
   "language": "python",
   "name": "python3"
  },
  "language_info": {
   "codemirror_mode": {
    "name": "ipython",
    "version": 3
   },
   "file_extension": ".py",
   "mimetype": "text/x-python",
   "name": "python",
   "nbconvert_exporter": "python",
   "pygments_lexer": "ipython3",
   "version": "3.7.6"
  }
 },
 "nbformat": 4,
 "nbformat_minor": 2
}
