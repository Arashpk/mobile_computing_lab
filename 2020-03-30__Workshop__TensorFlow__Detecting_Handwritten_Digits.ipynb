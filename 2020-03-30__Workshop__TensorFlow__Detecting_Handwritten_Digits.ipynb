{
 "cells": [
  {
   "cell_type": "markdown",
   "metadata": {},
   "source": [
    "# 2020-03-30 Workshop: TensorFlow Detecting Handwritten Digits\n",
    "\n",
    "This is a handwritten character image (MNIST) classifier that can run on any Android device. The app stores a model  set of images (0-9) that we can cycle through and classify in order. It uses a pre-trained model to perform inference on the device. This idea can be applied to any images, both by using the camera and by pulling from the Web. We're using preloaded images so we can run the app in a simulator (no need for the device since it doesn't require a camera).\n",
    "\n",
    "* <a href=\"https://www.youtube.com/watch?v=gahi0Hjgokw\"><b>Video Demo</b></a>\n",
    "* <a href=\"https://github.com/llSourcell/A_Guide_to_Running_Tensorflow_Models_on_Android/tree/master/mnistandroid\"><b>App Source Code</b></a>\n",
    "\n",
    "<img src=\"https://github.com/llSourcell/A_Guide_to_Running_Tensorflow_Models_on_Android/raw/master/images/demo.png\" width=\"800\">\n",
    "\n",
    "\n",
    "## 1. Building / Training / Testing a Model\n",
    "\n",
    "### Data \n",
    "\n",
    "MNIST is a simple computer vision dataset (70'000 labeled examples). It consists of 28x28 pixel images of handwritten digits. Every MNIST data point, every image, can be thought of as an array of numbers describing how dark each pixel is. For example, we might think of 1 as something like:\n",
    "\n",
    "<img src=\"https://tensorflow.rstudio.com/tensorflow/articles/images/MNIST-Matrix.png\" width=\"600\">\n",
    "\n",
    "Since each image has 28 by 28 pixels, we get a 28x28 array. We can flatten each array into a 28∗28=784\n",
    " dimensional vector. Each component of the vector is a value between zero and one describing the intensity of the pixel. Thus, we generally think of MNIST as being a collection of 784-dimensional vectors.\n",
    " \n",
    "The __y_train__ data is the associated labels for all the __x_train__ examples. Rather than storing the label as an integer, it is stored as a 1x10 binary array with the one representing the digit. This is also known as one-hot encoding. In the example below, the array represents a 7:\n",
    "\n",
    "<img src=\"https://d3ansictanv2wj.cloudfront.net/Img-1-array-b4889b9860c9e009bbd58e827a114129.png\" width=\"600\">"
   ]
  },
  {
   "cell_type": "code",
   "execution_count": 9,
   "metadata": {},
   "outputs": [],
   "source": [
    "# Python 3.6.0\n",
    "# tensorflow 1.5.0\n",
    "# Keras 2.0.4\n",
    "\n",
    "import os\n",
    "import os.path as path\n",
    "\n",
    "import keras\n",
    "from keras.datasets import mnist\n",
    "from keras.models import Sequential\n",
    "from keras.layers import Input, Dense, Dropout, Flatten\n",
    "from keras.layers import Conv2D, MaxPooling2D\n",
    "from keras import backend as K\n",
    "\n",
    "import tensorflow as tf\n",
    "from tensorflow.python.tools import freeze_graph\n",
    "from tensorflow.python.tools import optimize_for_inference_lib\n",
    "\n",
    "def load_data():\n",
    "    (x_train, y_train), (x_test, y_test) = mnist.load_data()\n",
    "    x_train = x_train.reshape(x_train.shape[0], 28, 28, 1)\n",
    "    x_test = x_test.reshape(x_test.shape[0], 28, 28, 1)\n",
    "    x_train = x_train.astype('float32')\n",
    "    x_test = x_test.astype('float32')\n",
    "    x_train /= 255\n",
    "    x_test /= 255\n",
    "    y_train = keras.utils.to_categorical(y_train, 10)\n",
    "    y_test = keras.utils.to_categorical(y_test, 10)\n",
    "    return x_train, y_train, x_test, y_test\n",
    "\n",
    "x_train, y_train, x_test, y_test = load_data()"
   ]
  },
  {
   "cell_type": "markdown",
   "metadata": {},
   "source": [
    "### Exploration"
   ]
  },
  {
   "cell_type": "code",
   "execution_count": 10,
   "metadata": {},
   "outputs": [
    {
     "name": "stderr",
     "output_type": "stream",
     "text": [
      "/Users/ahinea/work/pyenv/lib/python2.7/site-packages/ipykernel/__main__.py:13: FutureWarning: elementwise comparison failed; returning scalar instead, but in the future will perform elementwise comparison\n"
     ]
    },
    {
     "data": {
      "image/png": "[encoded data removed]",
      "text/plain": [
       "<Figure size 432x288 with 1 Axes>"
      ]
     },
     "metadata": {},
     "output_type": "display_data"
    }
   ],
   "source": [
    "import matplotlib.pyplot as plt\n",
    "import numpy as np\n",
    "\n",
    "def display_digit(digit, title = \"\"):\n",
    "    \"\"\"\n",
    "    graphically displays a 784x1 vector, representing a digit\n",
    "    \"\"\"\n",
    "    plt.figure()\n",
    "    fig = plt.imshow(digit.flatten().reshape(28,28))\n",
    "    fig.set_cmap('gray_r')\n",
    "    fig.axes.get_xaxis().set_visible(False)\n",
    "    fig.axes.get_yaxis().set_visible(False)\n",
    "    if title != \"\":\n",
    "        plt.title(\"Inferred label: \" + str(title))\n",
    "    plt.show()\n",
    "        \n",
    "digit = 129\n",
    "display_digit(x_train[digit], title = y_train[digit])"
   ]
  },
  {
   "cell_type": "markdown",
   "metadata": {},
   "source": [
    "### Building a Model\n",
    "\n",
    "Read: <a href=\"https://hackernoon.com/visualizing-parts-of-convolutional-neural-networks-using-keras-and-cats-5cc01b214e59\">Visualizing parts of Convolutional Neural Networks using Keras and Cats</a>"
   ]
  },
  {
   "cell_type": "code",
   "execution_count": 11,
   "metadata": {},
   "outputs": [],
   "source": [
    "def build_model():\n",
    "    model = Sequential()\n",
    "    model.add(Conv2D(filters=64, kernel_size=3, strides=1, \\\n",
    "            padding='same', activation='relu', \\\n",
    "            input_shape=[28, 28, 1]))\n",
    "    # 28*28*64\n",
    "    model.add(MaxPooling2D(pool_size=2, strides=2, padding='same'))\n",
    "    \n",
    "    # 14*14*64\n",
    "    model.add(Conv2D(filters=128, kernel_size=3, strides=1, \\\n",
    "            padding='same', activation='relu'))\n",
    "\n",
    "    # 14*14*128\n",
    "    model.add(MaxPooling2D(pool_size=2, strides=2, padding='same'))\n",
    "    \n",
    "    # 7*7*128\n",
    "    model.add(Conv2D(filters=256, kernel_size=3, strides=1, \\\n",
    "            padding='same', activation='relu'))\n",
    "    \n",
    "    # 7*7*256\n",
    "    model.add(MaxPooling2D(pool_size=2, strides=2, padding='same'))\n",
    "    \n",
    "    # 4*4*256\n",
    "    model.add(Flatten())\n",
    "    model.add(Dense(1024, activation='relu'))\n",
    "#     model.add(Dropout(0.5))\n",
    "    model.add(Dense(10, activation='softmax'))\n",
    "    return model\n",
    "\n",
    "model = build_model()"
   ]
  },
  {
   "cell_type": "markdown",
   "metadata": {},
   "source": [
    "### Training / Testing / Validation\n",
    "\n",
    "When solving with a CPU an Optimization Problem, you Iteratively apply an Algorithm over some Input Data. In each of these iterations you usually update a Metric of your problem doing some Calculations on the Data. Now when the size of your data is large it might need a considerable amount of time to complete every iteration, and may consume a lot of resources. So sometimes you choose to apply these iterative calculations on a Portion of the Data to save time and computational resources. This portion is the batch_size and the process is called (in the Neural Network Lingo) batch data processing.\n",
    "\n",
    "In the neural network terminology:\n",
    "* one __epoch__ = one forward pass and one backward pass of all the training examples\n",
    "* __batch size__ = the number of training examples in one forward/backward pass. The higher the batch size, the more memory space you'll need.\n",
    "* number of __iterations__ = number of passes, each pass using [batch size] number of examples. To be clear, one pass = one forward pass + one backward pass (we do not count the forward pass and backward pass as two different passes).\n",
    "\n",
    "Advantages:\n",
    "* It requires less memory. Since you train network using less number of samples the overall training procedure requires less memory. It's especially important in case if you are not able to fit dataset in memory.\n",
    "* Typically networks trains faster with mini-batches. That's because we update weights after each propagation. In our example we've propagated 11 batches (10 of them had 100 samples and 1 had 50 samples) and after each of them we've updated network's parameters. If we used all samples during propagation we would make only 1 update for the network's parameter.\n",
    "\n",
    "Disadvantages:\n",
    "* The smaller the batch the less accurate estimate of the gradient. In the figure below you can see that mini-batch (green color) gradient's direction fluctuates compare to the full batch (blue color).\n",
    "\n",
    "<img src=\"https://i.stack.imgur.com/lU3sx.png\" width=\"700\">\n",
    "\n",
    "Training code below takes around 5 minutes."
   ]
  },
  {
   "cell_type": "code",
   "execution_count": 12,
   "metadata": {},
   "outputs": [
    {
     "name": "stdout",
     "output_type": "stream",
     "text": [
      "Train on 60000 samples, validate on 10000 samples\n",
      "Epoch 1/1\n",
      "60000/60000 [==============================] - 549s 9ms/step - loss: 0.3402 - acc: 0.8930 - val_loss: 0.1347 - val_acc: 0.9513\n"
     ]
    },
    {
     "data": {
      "text/plain": [
       "<keras.callbacks.History at 0x1302cb510>"
      ]
     },
     "execution_count": 12,
     "metadata": {},
     "output_type": "execute_result"
    }
   ],
   "source": [
    "EPOCHS = 1\n",
    "BATCH_SIZE = 128\n",
    "\n",
    "model.compile(loss=keras.losses.categorical_crossentropy, \\\n",
    "    optimizer=keras.optimizers.Adadelta(), \\\n",
    "    metrics=['accuracy'])\n",
    "\n",
    "model.fit(x_train, y_train, \\\n",
    "    batch_size=BATCH_SIZE, \\\n",
    "    epochs=EPOCHS, \\\n",
    "    verbose=1, \\\n",
    "    validation_data=(x_test, y_test))"
   ]
  },
  {
   "cell_type": "markdown",
   "metadata": {},
   "source": [
    "ETA - Estimated Time of Arrival <br>\n",
    "loss - Difference between prediction and true labels on train data <br>\n",
    "acc - Mean accuracy rate across all predictions on train data <br>\n",
    "val_loss - Difference between prediction and true labels on test data <br>\n",
    "val_acc - Mean accuracy rate across all predictions on test data <br>\n",
    "\n",
    "### Export\n",
    "\n",
    "How to export my model?\n",
    "\n",
    "1. Train your model\n",
    "\n",
    "2. Keep an in-memory copy of everything your model learned (like biases and weights) Example: `_w = sess.eval(w)`, where `w` was learned from training.\n",
    "\n",
    "3. Rewrite your model changing the variables for constants with value = in-memory copy of learned variables. Example:\n",
    "`w_save = tf.constant(_w)`\n",
    "\n",
    "4. Also make sure to put names in the input and output of the model, this will be needed for the model later. Example:\n",
    "\n",
    "    ```\n",
    "    x = tf.placeholder(tf.float32, [None, 1000], name='input')\n",
    "    y = tf.nn.softmax(tf.matmul(x, w_save) + b_save), name='output')\n",
    "    ```\n",
    "\n",
    "5. Export your model with:\n",
    "\n",
    "    ```\n",
    "    tf.train.write_graph(<graph>, <path for the exported model>, <name of the model>.pb, as_text=False)\n",
    "    ```"
   ]
  },
  {
   "cell_type": "code",
   "execution_count": 14,
   "metadata": {},
   "outputs": [
    {
     "name": "stdout",
     "output_type": "stream",
     "text": [
      "INFO:tensorflow:Restoring parameters from ws3_hwd_data/mnist_convnet.chkp\n",
      "INFO:tensorflow:Froze 10 variables.\n",
      "Converted 10 variables to const ops.\n",
      "graph saved!\n"
     ]
    }
   ],
   "source": [
    "MODEL_NAME = 'mnist_convnet'\n",
    "DIR_NAME = 'ws3_hwd_data/'\n",
    "\n",
    "def export_model(saver, model, input_node_names, output_node_name):\n",
    "    tf.train.write_graph(K.get_session().graph_def, DIR_NAME, MODEL_NAME + '_graph.pbtxt')\n",
    "\n",
    "    saver.save(K.get_session(), DIR_NAME + MODEL_NAME + '.chkp')\n",
    "\n",
    "    freeze_graph.freeze_graph(DIR_NAME + MODEL_NAME + '_graph.pbtxt', None, \\\n",
    "        False, DIR_NAME + MODEL_NAME + '.chkp', output_node_name, \\\n",
    "        \"save/restore_all\", \"save/Const:0\", DIR_NAME + 'frozen_' + MODEL_NAME + '.pb', True, \"\")\n",
    "\n",
    "    input_graph_def = tf.GraphDef()\n",
    "    with tf.gfile.Open(DIR_NAME + 'frozen_' + MODEL_NAME + '.pb', \"rb\") as f:\n",
    "        input_graph_def.ParseFromString(f.read())\n",
    "\n",
    "    output_graph_def = optimize_for_inference_lib.optimize_for_inference(\n",
    "            input_graph_def, input_node_names, [output_node_name],\n",
    "            tf.float32.as_datatype_enum)\n",
    "\n",
    "    with tf.gfile.FastGFile(DIR_NAME + 'opt_' + MODEL_NAME + '.pb', \"wb\") as f:\n",
    "        f.write(output_graph_def.SerializeToString())\n",
    "        \n",
    "    print(\"graph saved!\")\n",
    "\n",
    "\n",
    "if not path.exists(DIR_NAME):\n",
    "    os.mkdir(DIR_NAME)\n",
    "\n",
    "export_model(tf.train.Saver(), model, [\"conv2d_1_input\"], \"dense_2/Softmax\")"
   ]
  },
  {
   "cell_type": "markdown",
   "metadata": {},
   "source": [
    "***\n",
    "## 2. TensorFlow Lite\n",
    "\n",
    "We use the TensorFlow Lite converter to convert the model into an optimized on for mobile devices. TensorFlow Lite uses the optimized FlatBuffer format to represent graphs. Therefore, a TensorFlow model needs to be converted into a FlatBuffer file before deploying it to Android. The TensorFlow Lite converter generates a TensorFlow Lite FlatBuffer file (.tflite) from a TensorFlow model. The converter script should be installed automatically on your PC if you use the latest versions of python and TensorFlow.\n",
    "\n",
    "```\n",
    "tflite_convert --output_file=opt_mnist_convnet2.tflite --graph_def_file=opt_mnist_convnet.pb --input_arrays=conv2d_1_input --output_arrays=dense_2/Softmax --input_shape=1,28,28,1\n",
    "```\n",
    "\n",
    "For more information on the TensorFlow Lite and TensorFlow converter see: <a href=\"https://www.tensorflow.org/lite/guide\">TensorFlow Lite guide</a>."
   ]
  },
  {
   "cell_type": "markdown",
   "metadata": {},
   "source": [
    "***\n",
    "## 3. Android App\n",
    "\n",
    "NDK (Native Development Kit) is a tool that allows you to program in C/C++ for Android devices. It integrates with the SDK and is used for performance-critical code.\n",
    "\n",
    "* <a href=\"https://developer.android.com/ndk/downloads/\">Download and install Android NDK</a> (you should actually get an automatic invitation to install NDK from Android Studio once you try to build an app which requires its support).\n",
    "\n",
    "![alt text](https://jalammar.github.io/images/android-tensorflow-app-structure_2.png)\n",
    "\n",
    "* The HandWrittenDigits Android app is provided here: <a href=\"https://github.com/osaukh/mobile_computing_lab/tree/master/code/HandWrittenDigits\">source code</a>. It requires that you use TensorFlow verion > 1.9.1. Examine the code and run it on your hardware. You can also experiment with the model above and use your own model (copy your .tflite file to HandWrittenDigits/app/src/main/assets/).\n",
    "\n",
    "\n",
    "***\n",
    "## Related Examples and Useful Links\n",
    "\n",
    "* <a href=\"https://www.oreilly.com/learning/not-another-mnist-tutorial-with-tensorflow\">Not another MNIST tutorial with TensorFlow</a>\n",
    "* <a href=\"https://heartbeat.fritz.ai/intro-to-machine-learning-on-android-how-to-convert-a-custom-model-to-tensorflow-lite-e07d2d9d50e3\">Intro to Machine Learning on Android — How to convert a custom model to TensorFlow Lite</a>\n",
    "* <a href=\"https://heartbeat.fritz.ai/introduction-to-machine-learning-on-android-part-2-building-an-app-to-recognize-handwritten-d58ebc01950\">Intro to Machine Learning on Android (Part 2): Building an app to recognize handwritten digits with TensorFlow Lite</a>\n",
    "\n",
    "\n",
    "***\n",
    "## Credits\n",
    "* YouTube video by Siraj Raval: <a href=\"https://www.youtube.com/watch?v=kFWKdLOxykE&feature=youtu.be\">A Guide to Running Tensorflow Models on Android</a>\n",
    "* <a href=\"https://github.com/llSourcell/A_Guide_to_Running_Tensorflow_Models_on_Android\">Original app source code for older versions of TensorFlow (<= 1.5.0)</a> adjusted by Siraj Raval\n",
    "* Original <a href=\"https://github.com/miyosuda/TensorFlowAndroidMNIST\">app source code</a>"
   ]
  },
  {
   "cell_type": "code",
   "execution_count": null,
   "metadata": {},
   "outputs": [],
   "source": []
  }
 ],
 "metadata": {
  "kernelspec": {
   "display_name": "Python 3",
   "language": "python",
   "name": "python3"
  },
  "language_info": {
   "codemirror_mode": {
    "name": "ipython",
    "version": 3
   },
   "file_extension": ".py",
   "mimetype": "text/x-python",
   "name": "python",
   "nbconvert_exporter": "python",
   "pygments_lexer": "ipython3",
   "version": "3.7.6"
  }
 },
 "nbformat": 4,
 "nbformat_minor": 2
}
